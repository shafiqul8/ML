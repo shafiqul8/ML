{
 "cells": [
  {
   "cell_type": "markdown",
   "id": "cd8c10fb",
   "metadata": {},
   "source": [
    "# SmartDesk AI - Full Notebook\n",
    "Portfolio-ready single-file Jupyter Notebook with interactive backend, AI analysis, and frontend widgets."
   ]
  },
  {
   "cell_type": "code",
   "execution_count": null,
   "id": "5330f859",
   "metadata": {},
   "outputs": [],
   "source": [
    "!pip install fastapi uvicorn sqlalchemy pydantic nest_asyncio requests openai ipywidgets matplotlib --quiet"
   ]
  },
  {
   "cell_type": "code",
   "execution_count": null,
   "id": "b2f6fec0",
   "metadata": {},
   "outputs": [],
   "source": [
    "import nest_asyncio\n",
    "nest_asyncio.apply()  # Allow FastAPI to run inside Jupyter\n",
    "\n",
    "from fastapi import FastAPI\n",
    "from pydantic import BaseModel\n",
    "from sqlalchemy import Column, Integer, String, DateTime, create_engine, func\n",
    "from sqlalchemy.orm import declarative_base, sessionmaker\n",
    "import threading, uvicorn, requests, openai\n",
    "import ipywidgets as widgets\n",
    "from IPython.display import display, HTML\n",
    "import matplotlib.pyplot as plt"
   ]
  },
  {
   "cell_type": "code",
   "execution_count": null,
   "id": "832314ab",
   "metadata": {},
   "outputs": [],
   "source": [
    "# Database setup (SQLite for notebook simplicity)\n",
    "Base = declarative_base()\n",
    "engine = create_engine(\"sqlite:///smartdesk_ai.db\", connect_args={\"check_same_thread\": False})\n",
    "SessionLocal = sessionmaker(bind=engine)\n",
    "db = SessionLocal()\n",
    "\n",
    "class Task(Base):\n",
    "    __tablename__ = \"tasks\"\n",
    "    id = Column(Integer, primary_key=True, index=True)\n",
    "    title = Column(String)\n",
    "    description = Column(String)\n",
    "    status = Column(String, default=\"pending\")\n",
    "    created_at = Column(DateTime(timezone=True), server_default=func.now())\n",
    "\n",
    "Base.metadata.create_all(bind=engine)"
   ]
  },
  {
   "cell_type": "code",
   "execution_count": null,
   "id": "394f875f",
   "metadata": {},
   "outputs": [],
   "source": [
    "# Pydantic schemas\n",
    "class TaskCreate(BaseModel):\n",
    "    title: str\n",
    "    description: str\n",
    "\n",
    "class TaskOut(TaskCreate):\n",
    "    id: int\n",
    "    status: str"
   ]
  },
  {
   "cell_type": "code",
   "execution_count": null,
   "id": "c4f84b57",
   "metadata": {},
   "outputs": [],
   "source": [
    "# FastAPI backend\n",
    "app = FastAPI(title=\"SmartDesk AI Notebook Demo\")\n",
    "\n",
    "@app.post(\"/tasks/\")\n",
    "def create_task(task: TaskCreate):\n",
    "    \"\"\"Create a new task\"\"\"\n",
    "    db_task = Task(**task.dict())\n",
    "    db.add(db_task)\n",
    "    db.commit()\n",
    "    db.refresh(db_task)\n",
    "    return TaskOut(id=db_task.id, title=db_task.title, description=db_task.description, status=db_task.status)\n",
    "\n",
    "@app.get(\"/tasks/\")\n",
    "def list_tasks():\n",
    "    \"\"\"List all tasks\"\"\"\n",
    "    tasks = db.query(Task).all()\n",
    "    return [TaskOut(id=t.id, title=t.title, description=t.description, status=t.status) for t in tasks]\n",
    "\n",
    "@app.post(\"/ai/analyze_task/\")\n",
    "def analyze_task(text: str):\n",
    "    \"\"\"Analyze task with AI (OpenAI GPT + Azure sentiment placeholder)\"\"\"\n",
    "    openai.api_key = \"<YOUR_OPENAI_KEY>\"  # Replace with real key\n",
    "    try:\n",
    "        gpt_resp = openai.Completion.create(\n",
    "            model=\"text-davinci-003\",\n",
    "            prompt=f\"Analyze this task and suggest intent: {text}\",\n",
    "            max_tokens=50\n",
    "        )\n",
    "        intent = gpt_resp.choices[0].text.strip()\n",
    "    except:\n",
    "        intent = \"DemoIntent\"\n",
    "\n",
    "    sentiment = \"neutral\"  # Placeholder for Azure Cognitive Services\n",
    "    return {\"intent\": intent, \"sentiment\": sentiment, \"summary\": text}"
   ]
  },
  {
   "cell_type": "code",
   "execution_count": null,
   "id": "f5ecd4bd",
   "metadata": {},
   "outputs": [],
   "source": [
    "# Run FastAPI in background thread\n",
    "def run_app():\n",
    "    uvicorn.run(app, host=\"0.0.0.0\", port=8000)\n",
    "\n",
    "thread = threading.Thread(target=run_app, daemon=True)\n",
    "thread.start()"
   ]
  },
  {
   "cell_type": "code",
   "execution_count": null,
   "id": "e2735191",
   "metadata": {},
   "outputs": [],
   "source": [
    "# Interactive frontend widgets\n",
    "# Task creation widget\n",
    "title_widget = widgets.Text(description=\"Title:\")\n",
    "desc_widget = widgets.Textarea(description=\"Description:\")\n",
    "create_btn = widgets.Button(description=\"Create Task\")\n",
    "output_create = widgets.Output()\n",
    "\n",
    "def on_create_clicked(b):\n",
    "    with output_create:\n",
    "        output_create.clear_output()\n",
    "        payload = {\"title\": title_widget.value, \"description\": desc_widget.value}\n",
    "        response = requests.post(\"http://127.0.0.1:8000/tasks/\", json=payload)\n",
    "        print(\"Task Created:\", response.json())\n",
    "        title_widget.value = \"\"\n",
    "        desc_widget.value = \"\"\n",
    "\n",
    "create_btn.on_click(on_create_clicked)\n",
    "display(HTML(\"<h3>Create New Task</h3>\"))\n",
    "display(title_widget, desc_widget, create_btn, output_create)\n",
    "\n",
    "# Task list widget\n",
    "list_btn = widgets.Button(description=\"List Tasks\")\n",
    "output_list = widgets.Output()\n",
    "\n",
    "def on_list_clicked(b):\n",
    "    with output_list:\n",
    "        output_list.clear_output()\n",
    "        response = requests.get(\"http://127.0.0.1:8000/tasks/\")\n",
    "        tasks = response.json()\n",
    "        for t in tasks:\n",
    "            print(t)\n",
    "\n",
    "list_btn.on_click(on_list_clicked)\n",
    "display(HTML(\"<h3>Task List</h3>\"))\n",
    "display(list_btn, output_list)\n",
    "\n",
    "# AI analysis widget\n",
    "ai_text = widgets.Textarea(description=\"Task Text:\")\n",
    "ai_btn = widgets.Button(description=\"Analyze Task\")\n",
    "output_ai = widgets.Output()\n",
    "\n",
    "def on_ai_clicked(b):\n",
    "    with output_ai:\n",
    "        output_ai.clear_output()\n",
    "        response = requests.post(\"http://127.0.0.1:8000/ai/analyze_task/\", params={\"text\": ai_text.value})\n",
    "        result = response.json()\n",
    "        print(\"AI Analysis Result:\", result)\n",
    "        sentiment_map = {\"positive\": 1, \"neutral\": 0, \"negative\": -1}\n",
    "        score = sentiment_map.get(result[\"sentiment\"], 0)\n",
    "        plt.bar([\"Sentiment\"], [score], color=\"skyblue\")\n",
    "        plt.ylim(-1, 1)\n",
    "        plt.show()\n",
    "\n",
    "ai_btn.on_click(on_ai_clicked)\n",
    "display(HTML(\"<h3>AI Task Analyzer</h3>\"))\n",
    "display(ai_text, ai_btn, output_ai)"
   ]
  }
 ],
 "metadata": {
  "kernelspec": {
   "display_name": "Python 3",
   "language": "python",
   "name": "python3"
  },
  "language_info": {
   "name": "python"
  }
 },
 "nbformat": 4,
 "nbformat_minor": 5
}
